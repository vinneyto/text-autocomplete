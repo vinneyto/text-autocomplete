{
 "cells": [
  {
   "cell_type": "code",
   "execution_count": 1,
   "id": "d634ef946e65d1ff",
   "metadata": {
    "ExecuteTime": {
     "end_time": "2025-08-18T13:47:01.167425Z",
     "start_time": "2025-08-18T13:47:01.155837Z"
    }
   },
   "outputs": [],
   "source": [
    "import sys\n",
    "from pathlib import Path\n",
    "\n",
    "SRC = Path().resolve() / \"src\"\n",
    "if str(SRC) not in sys.path:\n",
    "    sys.path.append(str(SRC))\n",
    "\n",
    "%load_ext autoreload\n",
    "%autoreload 2"
   ]
  },
  {
   "cell_type": "code",
   "execution_count": null,
   "id": "870a6af5",
   "metadata": {},
   "outputs": [],
   "source": [
    "dataset_usage = 1.0\n",
    "dataset_regenerate = False\n",
    "\n",
    "seq_size = 4 # число токеном в скользящем окне датасета\n",
    "seq_stride = 1\n",
    "\n",
    "emb_dim=256\n",
    "hidden_dim=512\n",
    "num_layers=2\n",
    "dropout_p=0.3\n",
    "learning_rate=1e-3\n",
    "weight_decay=0.01\n",
    "\n",
    "model_train = True\n",
    "model_load_path = \"models/next_token_8_250820_184932.pth\""
   ]
  },
  {
   "cell_type": "code",
   "execution_count": 3,
   "id": "f047258b91674185",
   "metadata": {
    "ExecuteTime": {
     "end_time": "2025-08-17T14:06:12.210370Z",
     "start_time": "2025-08-17T14:06:12.199557Z"
    }
   },
   "outputs": [
    {
     "name": "stdout",
     "output_type": "stream",
     "text": [
      "1280000\n"
     ]
    }
   ],
   "source": [
    "from data_utils import process_dataset, read_splits, truncate\n",
    "\n",
    "if dataset_regenerate:\n",
    "    process_dataset(\"data/raw_dataset.csv\")\n",
    "\n",
    "train_df, val_df, test_df = read_splits(\"data/dataset_processed.csv\")\n",
    "\n",
    "train_texts = truncate(list(train_df['text']), dataset_usage)\n",
    "val_texsts = truncate(list(val_df['text']), dataset_usage)\n",
    "\n",
    "print(len(train_texts))"
   ]
  },
  {
   "cell_type": "code",
   "execution_count": 4,
   "id": "55f4e58d",
   "metadata": {},
   "outputs": [
    {
     "name": "stdout",
     "output_type": "stream",
     "text": [
      "eos_token_id: 102\n"
     ]
    }
   ],
   "source": [
    "from transformers import BertTokenizerFast\n",
    "from tokenizer_utils import resolve_eos_token_id\n",
    "\n",
    "tokenizer = BertTokenizerFast.from_pretrained(\"bert-base-uncased\")\n",
    "\n",
    "eos_token_id = resolve_eos_token_id(tokenizer)\n",
    "\n",
    "print(\"eos_token_id:\", eos_token_id)"
   ]
  },
  {
   "cell_type": "code",
   "execution_count": 5,
   "id": "57a70a4d",
   "metadata": {},
   "outputs": [
    {
     "name": "stderr",
     "output_type": "stream",
     "text": [
      "100%|██████████| 1280000/1280000 [00:44<00:00, 28614.79it/s]\n",
      "100%|██████████| 160000/160000 [00:06<00:00, 24009.01it/s]"
     ]
    },
    {
     "name": "stdout",
     "output_type": "stream",
     "text": [
      "Train samples count: 4158366\n",
      "Val samples count: 517103\n"
     ]
    },
    {
     "name": "stderr",
     "output_type": "stream",
     "text": [
      "\n"
     ]
    }
   ],
   "source": [
    "\n",
    "from torch.utils.data import DataLoader\n",
    "from next_token_dataset import NextTokenDataset\n",
    "\n",
    "train_dataset = NextTokenDataset(\n",
    "    train_texts, \n",
    "    tokenizer, \n",
    "    eos_id=eos_token_id, \n",
    "    seq_size=seq_size, \n",
    "    stride=seq_stride\n",
    ")\n",
    "\n",
    "val_dataset = NextTokenDataset(\n",
    "    val_texsts,\n",
    "    tokenizer,\n",
    "    eos_id=eos_token_id,\n",
    "    seq_size=seq_size,\n",
    "    stride=seq_stride\n",
    ")\n",
    "\n",
    "print(f\"Train samples count: {len(train_dataset)}\")\n",
    "print(f\"Val samples count: {len(val_dataset)}\")\n",
    "\n",
    "train_loader = DataLoader(train_dataset, batch_size=128, shuffle=True)\n",
    "val_loader = DataLoader(val_dataset, batch_size=128)"
   ]
  },
  {
   "cell_type": "code",
   "execution_count": 6,
   "id": "79351762",
   "metadata": {},
   "outputs": [
    {
     "name": "stdout",
     "output_type": "stream",
     "text": [
      "Using device: mps\n"
     ]
    }
   ],
   "source": [
    "from lstm_model import NextTokenLSTM\n",
    "from device_utils import get_device\n",
    "\n",
    "import torch\n",
    "import torch.nn as nn\n",
    "\n",
    "device = get_device()\n",
    "print(\"Using device:\", device)\n",
    "\n",
    "model = NextTokenLSTM(\n",
    "    vocab_size=tokenizer.vocab_size,\n",
    "    emb_dim=emb_dim,\n",
    "    hidden_dim=hidden_dim,\n",
    "    num_layers=num_layers,\n",
    "    dropout_p=dropout_p,\n",
    ")"
   ]
  },
  {
   "cell_type": "code",
   "execution_count": 7,
   "id": "228edce6",
   "metadata": {},
   "outputs": [
    {
     "name": "stderr",
     "output_type": "stream",
     "text": [
      "Epoch: 1: 100%|██████████| 32488/32488 [42:52<00:00, 12.63it/s] \n",
      "100%|██████████| 4040/4040 [01:47<00:00, 37.49it/s]\n"
     ]
    },
    {
     "name": "stdout",
     "output_type": "stream",
     "text": [
      "Epoch 01 | Train Loss: 4.9434 | Val Loss: 4.8705 | Val PPL: 130.384 | Val Token Acc: 21.49%\n"
     ]
    },
    {
     "name": "stderr",
     "output_type": "stream",
     "text": [
      "Epoch: 2:  24%|██▎       | 7670/32488 [10:15<33:11, 12.46it/s]\n"
     ]
    },
    {
     "ename": "KeyboardInterrupt",
     "evalue": "",
     "output_type": "error",
     "traceback": [
      "\u001b[0;31m---------------------------------------------------------------------------\u001b[0m",
      "\u001b[0;31mKeyboardInterrupt\u001b[0m                         Traceback (most recent call last)",
      "Cell \u001b[0;32mIn[7], line 8\u001b[0m\n\u001b[1;32m      5\u001b[0m optimizer \u001b[38;5;241m=\u001b[39m torch\u001b[38;5;241m.\u001b[39moptim\u001b[38;5;241m.\u001b[39mAdamW(model\u001b[38;5;241m.\u001b[39mparameters(), lr\u001b[38;5;241m=\u001b[39mlearning_rate, weight_decay\u001b[38;5;241m=\u001b[39mweight_decay)\n\u001b[1;32m      6\u001b[0m criterion \u001b[38;5;241m=\u001b[39m nn\u001b[38;5;241m.\u001b[39mCrossEntropyLoss()   \n\u001b[0;32m----> 8\u001b[0m model \u001b[38;5;241m=\u001b[39m \u001b[43mtrain_next_token\u001b[49m\u001b[43m(\u001b[49m\n\u001b[1;32m      9\u001b[0m \u001b[43m    \u001b[49m\u001b[43mmodel\u001b[49m\u001b[43m,\u001b[49m\n\u001b[1;32m     10\u001b[0m \u001b[43m    \u001b[49m\u001b[43moptimizer\u001b[49m\u001b[38;5;241;43m=\u001b[39;49m\u001b[43moptimizer\u001b[49m\u001b[43m,\u001b[49m\n\u001b[1;32m     11\u001b[0m \u001b[43m    \u001b[49m\u001b[43mcriterion\u001b[49m\u001b[38;5;241;43m=\u001b[39;49m\u001b[43mcriterion\u001b[49m\u001b[43m,\u001b[49m\n\u001b[1;32m     12\u001b[0m \u001b[43m    \u001b[49m\u001b[43mtrain_loader\u001b[49m\u001b[38;5;241;43m=\u001b[39;49m\u001b[43mtrain_loader\u001b[49m\u001b[43m,\u001b[49m\n\u001b[1;32m     13\u001b[0m \u001b[43m    \u001b[49m\u001b[43mval_loader\u001b[49m\u001b[38;5;241;43m=\u001b[39;49m\u001b[43mval_loader\u001b[49m\u001b[43m,\u001b[49m\n\u001b[1;32m     14\u001b[0m \u001b[43m    \u001b[49m\u001b[43mdevice\u001b[49m\u001b[38;5;241;43m=\u001b[39;49m\u001b[43mdevice\u001b[49m\u001b[43m,\u001b[49m\n\u001b[1;32m     15\u001b[0m \u001b[43m    \u001b[49m\u001b[43mepochs\u001b[49m\u001b[38;5;241;43m=\u001b[39;49m\u001b[38;5;241;43m5\u001b[39;49m\n\u001b[1;32m     16\u001b[0m \u001b[43m\u001b[49m\u001b[43m)\u001b[49m\n\u001b[1;32m     18\u001b[0m timestamp \u001b[38;5;241m=\u001b[39m datetime\u001b[38;5;241m.\u001b[39mnow()\u001b[38;5;241m.\u001b[39mstrftime(\u001b[38;5;124m\"\u001b[39m\u001b[38;5;124m%\u001b[39m\u001b[38;5;124my\u001b[39m\u001b[38;5;124m%\u001b[39m\u001b[38;5;124mm\u001b[39m\u001b[38;5;132;01m%d\u001b[39;00m\u001b[38;5;124m_\u001b[39m\u001b[38;5;124m%\u001b[39m\u001b[38;5;124mH\u001b[39m\u001b[38;5;124m%\u001b[39m\u001b[38;5;124mM\u001b[39m\u001b[38;5;124m%\u001b[39m\u001b[38;5;124mS\u001b[39m\u001b[38;5;124m\"\u001b[39m)\n\u001b[1;32m     19\u001b[0m torch\u001b[38;5;241m.\u001b[39msave(model\u001b[38;5;241m.\u001b[39mstate_dict(), \u001b[38;5;124mf\u001b[39m\u001b[38;5;124m\"\u001b[39m\u001b[38;5;124mmodels/next_token_\u001b[39m\u001b[38;5;132;01m{\u001b[39;00mseq_size\u001b[38;5;132;01m}\u001b[39;00m\u001b[38;5;124m_\u001b[39m\u001b[38;5;132;01m{\u001b[39;00mtimestamp\u001b[38;5;132;01m}\u001b[39;00m\u001b[38;5;124m.pth\u001b[39m\u001b[38;5;124m\"\u001b[39m)\n",
      "File \u001b[0;32m~/dev/text-autocomplete/src/lstm_train.py:47\u001b[0m, in \u001b[0;36mtrain_next_token\u001b[0;34m(model, optimizer, criterion, train_loader, val_loader, device, epochs, max_grad_norm, patience, min_delta_ppl, scheduler, restore_best)\u001b[0m\n\u001b[1;32m     44\u001b[0m         clip_grad_norm_(model\u001b[38;5;241m.\u001b[39mparameters(), max_grad_norm)\n\u001b[1;32m     46\u001b[0m     optimizer\u001b[38;5;241m.\u001b[39mstep()\n\u001b[0;32m---> 47\u001b[0m     running \u001b[38;5;241m+\u001b[39m\u001b[38;5;241m=\u001b[39m \u001b[43mloss\u001b[49m\u001b[38;5;241;43m.\u001b[39;49m\u001b[43mitem\u001b[49m\u001b[43m(\u001b[49m\u001b[43m)\u001b[49m\n\u001b[1;32m     49\u001b[0m train_loss \u001b[38;5;241m=\u001b[39m running \u001b[38;5;241m/\u001b[39m \u001b[38;5;28mmax\u001b[39m(\u001b[38;5;241m1\u001b[39m, \u001b[38;5;28mlen\u001b[39m(train_loader))\n\u001b[1;32m     51\u001b[0m \u001b[38;5;66;03m# ---- EVAL ----\u001b[39;00m\n",
      "\u001b[0;31mKeyboardInterrupt\u001b[0m: "
     ]
    }
   ],
   "source": [
    "from lstm_train import train_next_token\n",
    "from datetime import datetime\n",
    "\n",
    "if model_train:\n",
    "    optimizer = torch.optim.AdamW(model.parameters(), lr=learning_rate, weight_decay=weight_decay)\n",
    "    criterion = nn.CrossEntropyLoss()   \n",
    "\n",
    "    model = train_next_token(\n",
    "        model,\n",
    "        optimizer=optimizer,\n",
    "        criterion=criterion,\n",
    "        train_loader=train_loader,\n",
    "        val_loader=val_loader,\n",
    "        device=device,\n",
    "        epochs=5\n",
    "    )\n",
    "\n",
    "    timestamp = datetime.now().strftime(\"%y%m%d_%H%M%S\")\n",
    "    torch.save(model.state_dict(), f\"models/next_token_{seq_size}_{timestamp}.pth\")\n",
    "else:\n",
    "    state = torch.load(model_load_path, map_location=device)\n",
    "    model.load_state_dict(state)"
   ]
  },
  {
   "cell_type": "code",
   "execution_count": 26,
   "id": "5f624e87",
   "metadata": {},
   "outputs": [
    {
     "data": {
      "text/plain": [
       "'the former quot the quot'"
      ]
     },
     "execution_count": 26,
     "metadata": {},
     "output_type": "execute_result"
    }
   ],
   "source": [
    "from autocomplete import autocomplete_text\n",
    "\n",
    "comp_text = autocomplete_text(\n",
    "    model=model, \n",
    "    tokenizer=tokenizer,\n",
    "    eos_id=eos_token_id,\n",
    "    seq_size=seq_size,\n",
    "    text=\"history about\",\n",
    ")\n",
    "comp_text"
   ]
  }
 ],
 "metadata": {
  "kernelspec": {
   "display_name": ".venv",
   "language": "python",
   "name": "python3"
  },
  "language_info": {
   "codemirror_mode": {
    "name": "ipython",
    "version": 3
   },
   "file_extension": ".py",
   "mimetype": "text/x-python",
   "name": "python",
   "nbconvert_exporter": "python",
   "pygments_lexer": "ipython3",
   "version": "3.13.5"
  }
 },
 "nbformat": 4,
 "nbformat_minor": 5
}
