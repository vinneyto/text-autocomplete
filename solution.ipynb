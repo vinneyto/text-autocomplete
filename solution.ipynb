{
 "cells": [
  {
   "cell_type": "code",
   "execution_count": 1,
   "id": "d634ef946e65d1ff",
   "metadata": {
    "ExecuteTime": {
     "end_time": "2025-08-18T13:47:01.167425Z",
     "start_time": "2025-08-18T13:47:01.155837Z"
    }
   },
   "outputs": [],
   "source": [
    "import sys\n",
    "from pathlib import Path\n",
    "\n",
    "SRC = Path().resolve() / \"src\"\n",
    "if str(SRC) not in sys.path:\n",
    "    sys.path.append(str(SRC))\n",
    "\n",
    "%load_ext autoreload\n",
    "%autoreload 2"
   ]
  },
  {
   "cell_type": "code",
   "execution_count": 2,
   "id": "ce7b8882",
   "metadata": {},
   "outputs": [],
   "source": [
    "import torch\n",
    "import torch.nn as nn"
   ]
  },
  {
   "cell_type": "code",
   "execution_count": 3,
   "id": "6f7580dc",
   "metadata": {},
   "outputs": [
    {
     "name": "stdout",
     "output_type": "stream",
     "text": [
      "Using device: cuda\n"
     ]
    }
   ],
   "source": [
    "from device_utils import get_device\n",
    "device = get_device()\n",
    "print(\"Using device:\", device)"
   ]
  },
  {
   "cell_type": "code",
   "execution_count": 7,
   "id": "870a6af5",
   "metadata": {},
   "outputs": [],
   "source": [
    "dataset_usage = 1\n",
    "dataset_regenerate = False\n",
    "\n",
    "seq_size = 16 # число токеном в скользящем окне датасета\n",
    "seq_stride = 1\n",
    "\n",
    "emb_dim=256\n",
    "hidden_dim=512\n",
    "num_layers=2\n",
    "dropout_p=0.3\n",
    "learning_rate=1e-3\n",
    "weight_decay=0.01\n",
    "\n",
    "model_train = True\n",
    "model_load_path = \"models/next_token_8_250820_184932.pth\""
   ]
  },
  {
   "cell_type": "code",
   "execution_count": 8,
   "id": "f047258b91674185",
   "metadata": {
    "ExecuteTime": {
     "end_time": "2025-08-17T14:06:12.210370Z",
     "start_time": "2025-08-17T14:06:12.199557Z"
    }
   },
   "outputs": [
    {
     "name": "stdout",
     "output_type": "stream",
     "text": [
      "1280000\n"
     ]
    }
   ],
   "source": [
    "from data_utils import process_dataset, read_splits, truncate\n",
    "\n",
    "if dataset_regenerate:\n",
    "    process_dataset(\"data/raw_dataset.csv\")\n",
    "\n",
    "train_df, val_df, test_df = read_splits(\"data/dataset_processed.csv\")\n",
    "\n",
    "train_texts = truncate(list(train_df['text']), dataset_usage)\n",
    "val_texsts = truncate(list(val_df['text']), dataset_usage)\n",
    "\n",
    "print(len(train_texts))"
   ]
  },
  {
   "cell_type": "code",
   "execution_count": 9,
   "id": "55f4e58d",
   "metadata": {},
   "outputs": [
    {
     "name": "stdout",
     "output_type": "stream",
     "text": [
      "eos_token_id: 102\n"
     ]
    }
   ],
   "source": [
    "from transformers import BertTokenizerFast\n",
    "from tokenizer_utils import resolve_eos_token_id\n",
    "\n",
    "tokenizer = BertTokenizerFast.from_pretrained(\"bert-base-uncased\")\n",
    "\n",
    "eos_token_id = resolve_eos_token_id(tokenizer)\n",
    "\n",
    "print(\"eos_token_id:\", eos_token_id)"
   ]
  },
  {
   "cell_type": "code",
   "execution_count": 10,
   "id": "57a70a4d",
   "metadata": {},
   "outputs": [
    {
     "name": "stderr",
     "output_type": "stream",
     "text": [
      "  0%|          | 0/1280000 [00:00<?, ?it/s]"
     ]
    },
    {
     "name": "stderr",
     "output_type": "stream",
     "text": [
      "100%|██████████| 1280000/1280000 [02:00<00:00, 10614.03it/s]\n",
      "100%|██████████| 160000/160000 [00:15<00:00, 10202.13it/s]"
     ]
    },
    {
     "name": "stdout",
     "output_type": "stream",
     "text": [
      "Train samples count: 4158366\n",
      "Val samples count: 517103\n"
     ]
    },
    {
     "name": "stderr",
     "output_type": "stream",
     "text": [
      "\n"
     ]
    }
   ],
   "source": [
    "\n",
    "from torch.utils.data import DataLoader\n",
    "from next_token_dataset import NextTokenDataset\n",
    "\n",
    "train_dataset = NextTokenDataset(\n",
    "    train_texts, \n",
    "    tokenizer, \n",
    "    eos_id=eos_token_id, \n",
    "    seq_size=seq_size, \n",
    "    stride=seq_stride\n",
    ")\n",
    "\n",
    "val_dataset = NextTokenDataset(\n",
    "    val_texsts,\n",
    "    tokenizer,\n",
    "    eos_id=eos_token_id,\n",
    "    seq_size=seq_size,\n",
    "    stride=seq_stride\n",
    ")\n",
    "\n",
    "print(f\"Train samples count: {len(train_dataset)}\")\n",
    "print(f\"Val samples count: {len(val_dataset)}\")\n",
    "\n",
    "train_loader = DataLoader(train_dataset, batch_size=128, shuffle=True)\n",
    "val_loader = DataLoader(val_dataset, batch_size=128)"
   ]
  },
  {
   "cell_type": "code",
   "execution_count": 11,
   "id": "79351762",
   "metadata": {},
   "outputs": [],
   "source": [
    "from lstm_model import NextTokenLSTM\n",
    "\n",
    "model = NextTokenLSTM(\n",
    "    vocab_size=tokenizer.vocab_size,\n",
    "    emb_dim=emb_dim,\n",
    "    hidden_dim=hidden_dim,\n",
    "    num_layers=num_layers,\n",
    "    dropout_p=dropout_p,\n",
    ")"
   ]
  },
  {
   "cell_type": "code",
   "execution_count": 12,
   "id": "228edce6",
   "metadata": {},
   "outputs": [
    {
     "name": "stderr",
     "output_type": "stream",
     "text": [
      "Epoch: 1: 100%|██████████| 32488/32488 [39:59<00:00, 13.54it/s]\n",
      "Eval: 100%|██████████| 4040/4040 [04:59<00:00, 13.50it/s]\n"
     ]
    },
    {
     "name": "stdout",
     "output_type": "stream",
     "text": [
      "Epoch 01 | Train Loss: 4.8280 | Val Loss: 4.8404 | Val PPL: 126.518 | Val Token Acc: 21.86% | ROUGE-1/2/L(F1): 0.239/0.039/0.214\n"
     ]
    },
    {
     "name": "stderr",
     "output_type": "stream",
     "text": [
      "Epoch: 2: 100%|██████████| 32488/32488 [40:03<00:00, 13.52it/s]\n",
      "Eval: 100%|██████████| 4040/4040 [04:58<00:00, 13.52it/s]\n"
     ]
    },
    {
     "name": "stdout",
     "output_type": "stream",
     "text": [
      "Epoch 02 | Train Loss: 4.4323 | Val Loss: 4.8748 | Val PPL: 130.949 | Val Token Acc: 22.00% | ROUGE-1/2/L(F1): 0.241/0.040/0.215\n"
     ]
    },
    {
     "name": "stderr",
     "output_type": "stream",
     "text": [
      "Epoch: 3: 100%|██████████| 32488/32488 [40:01<00:00, 13.53it/s]\n",
      "Eval: 100%|██████████| 4040/4040 [04:59<00:00, 13.50it/s]\n"
     ]
    },
    {
     "name": "stdout",
     "output_type": "stream",
     "text": [
      "Epoch 03 | Train Loss: 4.2901 | Val Loss: 4.9249 | Val PPL: 137.679 | Val Token Acc: 21.94% | ROUGE-1/2/L(F1): 0.240/0.040/0.214\n"
     ]
    },
    {
     "name": "stderr",
     "output_type": "stream",
     "text": [
      "Epoch: 4: 100%|██████████| 32488/32488 [40:01<00:00, 13.53it/s]\n",
      "Eval: 100%|██████████| 4040/4040 [04:59<00:00, 13.49it/s]\n"
     ]
    },
    {
     "name": "stdout",
     "output_type": "stream",
     "text": [
      "Epoch 04 | Train Loss: 4.2152 | Val Loss: 4.9620 | Val PPL: 142.884 | Val Token Acc: 21.84% | ROUGE-1/2/L(F1): 0.239/0.040/0.214\n",
      "Early stopping: no PPL improvement for 3 epoch(s). Best Val PPL: 126.518\n"
     ]
    }
   ],
   "source": [
    "from lstm_train import train_next_token\n",
    "from datetime import datetime\n",
    "\n",
    "if model_train:\n",
    "    optimizer = torch.optim.AdamW(model.parameters(), lr=learning_rate, weight_decay=weight_decay)\n",
    "    criterion = nn.CrossEntropyLoss()\n",
    "\n",
    "    model = train_next_token(\n",
    "        model,\n",
    "        optimizer=optimizer,\n",
    "        criterion=criterion,\n",
    "        tokenizer=tokenizer,\n",
    "        train_loader=train_loader,\n",
    "        val_loader=val_loader,\n",
    "        device=device,\n",
    "        epochs=5\n",
    "    )\n",
    "\n",
    "    timestamp = datetime.now().strftime(\"%y%m%d_%H%M%S\")\n",
    "    torch.save(model.state_dict(), f\"models/next_token_{seq_size}_{timestamp}.pth\")\n",
    "else:\n",
    "    state = torch.load(model_load_path, map_location=device)\n",
    "    model.load_state_dict(state)"
   ]
  },
  {
   "cell_type": "code",
   "execution_count": 23,
   "id": "5f624e87",
   "metadata": {},
   "outputs": [
    {
     "data": {
      "text/plain": [
       "'still a bit slow'"
      ]
     },
     "execution_count": 23,
     "metadata": {},
     "output_type": "execute_result"
    }
   ],
   "source": [
    "from autocomplete import autocomplete_text\n",
    "\n",
    "comp_text = autocomplete_text(\n",
    "    model=model, \n",
    "    tokenizer=tokenizer,\n",
    "    eos_id=eos_token_id,\n",
    "    seq_size=seq_size,\n",
    "    text=\"my car is\",\n",
    ")\n",
    "comp_text"
   ]
  },
  {
   "cell_type": "code",
   "execution_count": 18,
   "id": "5e9947ff",
   "metadata": {},
   "outputs": [
    {
     "name": "stderr",
     "output_type": "stream",
     "text": [
      "Device set to use cuda:0\n",
      "Truncation was not explicitly activated but `max_length` is provided a specific value, please use `truncation=True` to explicitly truncate examples to max length. Defaulting to 'longest_first' truncation strategy. If you encode pairs of sequences (GLUE-style) with the tokenizer you can select this strategy more precisely by providing a specific strategy to `truncation`.\n",
      "Setting `pad_token_id` to `eos_token_id`:50256 for open-end generation.\n",
      "Both `max_new_tokens` (=256) and `max_length`(=80) seem to have been set. `max_new_tokens` will take precedence. Please refer to the documentation for more information. (https://huggingface.co/docs/transformers/main/en/main_classes/text_generation)\n"
     ]
    },
    {
     "data": {
      "text/plain": [
       "\"she is my favorite piece of art. It's been made of black leather, but the overall texture is a little more like a leather or a leather piece.\\n\\nThe other thing I'd like to add is a touch of something a bit darker than what I'm looking at, like white or red.\\nSo here's a list of my favorite pieces of art, and some of my favorite pieces of art.\\nThese are the top 10 pieces of art that I think I've come to love!\""
      ]
     },
     "execution_count": 18,
     "metadata": {},
     "output_type": "execute_result"
    }
   ],
   "source": [
    "from transformers import AutoTokenizer, AutoModelForCausalLM, pipeline\n",
    "\n",
    "class GPT2Autocomplete:\n",
    "    def __init__(self):\n",
    "        # 1) Загрузка токенизатора и модели\n",
    "        model_name = \"distilgpt2\"          # лёгкая версия GPT-2\n",
    "        self.tokenizer = AutoTokenizer.from_pretrained(model_name)\n",
    "        self.model = AutoModelForCausalLM.from_pretrained(model_name)\n",
    "\n",
    "        # 2) Создаём pipeline для генерации\n",
    "        self.generator = pipeline(\n",
    "            task=\"text-generation\",\n",
    "            model=self.model,\n",
    "            tokenizer=self.tokenizer,\n",
    "            device=0  # -1 = CPU; 0 = первый GPU (если есть)\n",
    "        )\n",
    "\n",
    "    def generate(self, prompt):\n",
    "        out = self.generator(\n",
    "            prompt,\n",
    "            max_length=80,       # итоговая длина (включая prompt)\n",
    "            num_return_sequences=1,\n",
    "            do_sample=True,      # стохастическая генерация\n",
    "            top_p=0.95,          # nucleus sampling\n",
    "            temperature=0.8\n",
    "        )\n",
    "\n",
    "        return out[0][\"generated_text\"]\n",
    "    \n",
    "gpt_autocomplete = GPT2Autocomplete()\n",
    "\n",
    "completition = gpt_autocomplete.generate(\"she is my\")\n",
    "completition"
   ]
  }
 ],
 "metadata": {
  "kernelspec": {
   "display_name": ".venv",
   "language": "python",
   "name": "python3"
  },
  "language_info": {
   "codemirror_mode": {
    "name": "ipython",
    "version": 3
   },
   "file_extension": ".py",
   "mimetype": "text/x-python",
   "name": "python",
   "nbconvert_exporter": "python",
   "pygments_lexer": "ipython3",
   "version": "3.13.7"
  }
 },
 "nbformat": 4,
 "nbformat_minor": 5
}
