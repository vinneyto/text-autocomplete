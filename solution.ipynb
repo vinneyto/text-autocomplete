{
 "cells": [
  {
   "cell_type": "code",
   "execution_count": 53,
   "id": "d634ef946e65d1ff",
   "metadata": {
    "ExecuteTime": {
     "end_time": "2025-08-18T13:47:01.167425Z",
     "start_time": "2025-08-18T13:47:01.155837Z"
    }
   },
   "outputs": [
    {
     "name": "stdout",
     "output_type": "stream",
     "text": [
      "The autoreload extension is already loaded. To reload it, use:\n",
      "  %reload_ext autoreload\n"
     ]
    }
   ],
   "source": [
    "import sys\n",
    "from pathlib import Path\n",
    "\n",
    "SRC = Path().resolve() / \"src\"\n",
    "if str(SRC) not in sys.path:\n",
    "    sys.path.append(str(SRC))\n",
    "\n",
    "%load_ext autoreload\n",
    "%autoreload 2"
   ]
  },
  {
   "cell_type": "code",
   "execution_count": 42,
   "id": "ce7b8882",
   "metadata": {},
   "outputs": [],
   "source": [
    "import torch\n",
    "import torch.nn as nn"
   ]
  },
  {
   "cell_type": "code",
   "execution_count": 43,
   "id": "6f7580dc",
   "metadata": {},
   "outputs": [
    {
     "name": "stdout",
     "output_type": "stream",
     "text": [
      "Using device: mps\n"
     ]
    }
   ],
   "source": [
    "from device_utils import get_device\n",
    "device = get_device()\n",
    "print(\"Using device:\", device)"
   ]
  },
  {
   "cell_type": "code",
   "execution_count": 44,
   "id": "870a6af5",
   "metadata": {},
   "outputs": [],
   "source": [
    "dataset_usage = 1\n",
    "dataset_regenerate = False\n",
    "\n",
    "seq_size = 16 # число токеном в скользящем окне датасета\n",
    "seq_stride = 1\n",
    "\n",
    "emb_dim=256\n",
    "hidden_dim=512\n",
    "num_layers=2\n",
    "dropout_p=0.3\n",
    "learning_rate=1e-3\n",
    "weight_decay=0.01\n",
    "\n",
    "model_train = False\n",
    "model_load_path = \"models/next_token_16_250822_212717.pth\""
   ]
  },
  {
   "cell_type": "code",
   "execution_count": 45,
   "id": "f047258b91674185",
   "metadata": {
    "ExecuteTime": {
     "end_time": "2025-08-17T14:06:12.210370Z",
     "start_time": "2025-08-17T14:06:12.199557Z"
    }
   },
   "outputs": [
    {
     "name": "stdout",
     "output_type": "stream",
     "text": [
      "1277123\n"
     ]
    }
   ],
   "source": [
    "from data_utils import process_dataset, read_splits, truncate_ratio_and_clear\n",
    "\n",
    "if dataset_regenerate:\n",
    "    process_dataset(\"data/raw_dataset.csv\")\n",
    "\n",
    "train_df, val_df, test_df = read_splits(\"data/dataset_processed.csv\")\n",
    "\n",
    "train_texts = truncate_ratio_and_clear(list(train_df['text']), dataset_usage)\n",
    "val_texsts = truncate_ratio_and_clear(list(val_df['text']), dataset_usage)\n",
    "test_texts = truncate_ratio_and_clear(list(test_df['text']), dataset_usage)\n",
    "\n",
    "print(len(train_texts))"
   ]
  },
  {
   "cell_type": "code",
   "execution_count": 46,
   "id": "55f4e58d",
   "metadata": {},
   "outputs": [
    {
     "name": "stdout",
     "output_type": "stream",
     "text": [
      "eos_token_id: 102\n"
     ]
    }
   ],
   "source": [
    "from transformers import BertTokenizerFast\n",
    "from tokenizer_utils import resolve_eos_token_id\n",
    "\n",
    "tokenizer = BertTokenizerFast.from_pretrained(\"bert-base-uncased\")\n",
    "\n",
    "eos_token_id = resolve_eos_token_id(tokenizer)\n",
    "\n",
    "print(\"eos_token_id:\", eos_token_id)"
   ]
  },
  {
   "cell_type": "code",
   "execution_count": 10,
   "id": "57a70a4d",
   "metadata": {},
   "outputs": [
    {
     "name": "stderr",
     "output_type": "stream",
     "text": [
      "  0%|          | 0/1280000 [00:00<?, ?it/s]"
     ]
    },
    {
     "name": "stderr",
     "output_type": "stream",
     "text": [
      "100%|██████████| 1280000/1280000 [02:00<00:00, 10614.03it/s]\n",
      "100%|██████████| 160000/160000 [00:15<00:00, 10202.13it/s]"
     ]
    },
    {
     "name": "stdout",
     "output_type": "stream",
     "text": [
      "Train samples count: 4158366\n",
      "Val samples count: 517103\n"
     ]
    },
    {
     "name": "stderr",
     "output_type": "stream",
     "text": [
      "\n"
     ]
    }
   ],
   "source": [
    "\n",
    "from torch.utils.data import DataLoader\n",
    "from next_token_dataset import NextTokenDataset\n",
    "\n",
    "train_dataset = NextTokenDataset(\n",
    "    train_texts, \n",
    "    tokenizer, \n",
    "    eos_id=eos_token_id, \n",
    "    seq_size=seq_size, \n",
    "    stride=seq_stride\n",
    ")\n",
    "\n",
    "val_dataset = NextTokenDataset(\n",
    "    val_texsts,\n",
    "    tokenizer,\n",
    "    eos_id=eos_token_id,\n",
    "    seq_size=seq_size,\n",
    "    stride=seq_stride\n",
    ")\n",
    "\n",
    "print(f\"Train samples count: {len(train_dataset)}\")\n",
    "print(f\"Val samples count: {len(val_dataset)}\")\n",
    "\n",
    "train_loader = DataLoader(train_dataset, batch_size=128, shuffle=True)\n",
    "val_loader = DataLoader(val_dataset, batch_size=128)"
   ]
  },
  {
   "cell_type": "code",
   "execution_count": 47,
   "id": "79351762",
   "metadata": {},
   "outputs": [],
   "source": [
    "from lstm_model import NextTokenLSTM\n",
    "\n",
    "model = NextTokenLSTM(\n",
    "    vocab_size=tokenizer.vocab_size,\n",
    "    emb_dim=emb_dim,\n",
    "    hidden_dim=hidden_dim,\n",
    "    num_layers=num_layers,\n",
    "    dropout_p=dropout_p,\n",
    ")"
   ]
  },
  {
   "cell_type": "code",
   "execution_count": null,
   "id": "228edce6",
   "metadata": {},
   "outputs": [
    {
     "name": "stderr",
     "output_type": "stream",
     "text": [
      "Epoch: 1: 100%|██████████| 32488/32488 [39:59<00:00, 13.54it/s]\n",
      "Eval: 100%|██████████| 4040/4040 [04:59<00:00, 13.50it/s]\n"
     ]
    },
    {
     "name": "stdout",
     "output_type": "stream",
     "text": [
      "Epoch 01 | Train Loss: 4.8280 | Val Loss: 4.8404 | Val PPL: 126.518 | Val Token Acc: 21.86% | ROUGE-1/2/L(F1): 0.239/0.039/0.214\n"
     ]
    },
    {
     "name": "stderr",
     "output_type": "stream",
     "text": [
      "Epoch: 2: 100%|██████████| 32488/32488 [40:03<00:00, 13.52it/s]\n",
      "Eval: 100%|██████████| 4040/4040 [04:58<00:00, 13.52it/s]\n"
     ]
    },
    {
     "name": "stdout",
     "output_type": "stream",
     "text": [
      "Epoch 02 | Train Loss: 4.4323 | Val Loss: 4.8748 | Val PPL: 130.949 | Val Token Acc: 22.00% | ROUGE-1/2/L(F1): 0.241/0.040/0.215\n"
     ]
    },
    {
     "name": "stderr",
     "output_type": "stream",
     "text": [
      "Epoch: 3: 100%|██████████| 32488/32488 [40:01<00:00, 13.53it/s]\n",
      "Eval: 100%|██████████| 4040/4040 [04:59<00:00, 13.50it/s]\n"
     ]
    },
    {
     "name": "stdout",
     "output_type": "stream",
     "text": [
      "Epoch 03 | Train Loss: 4.2901 | Val Loss: 4.9249 | Val PPL: 137.679 | Val Token Acc: 21.94% | ROUGE-1/2/L(F1): 0.240/0.040/0.214\n"
     ]
    },
    {
     "name": "stderr",
     "output_type": "stream",
     "text": [
      "Epoch: 4: 100%|██████████| 32488/32488 [40:01<00:00, 13.53it/s]\n",
      "Eval: 100%|██████████| 4040/4040 [04:59<00:00, 13.49it/s]\n"
     ]
    },
    {
     "name": "stdout",
     "output_type": "stream",
     "text": [
      "Epoch 04 | Train Loss: 4.2152 | Val Loss: 4.9620 | Val PPL: 142.884 | Val Token Acc: 21.84% | ROUGE-1/2/L(F1): 0.239/0.040/0.214\n",
      "Early stopping: no PPL improvement for 3 epoch(s). Best Val PPL: 126.518\n"
     ]
    }
   ],
   "source": [
    "from lstm_train import train_next_token\n",
    "from datetime import datetime\n",
    "\n",
    "if model_train:\n",
    "    optimizer = torch.optim.AdamW(model.parameters(), lr=learning_rate, weight_decay=weight_decay)\n",
    "    criterion = nn.CrossEntropyLoss()\n",
    "\n",
    "    model = train_next_token(\n",
    "        model,\n",
    "        optimizer=optimizer,\n",
    "        criterion=criterion,\n",
    "        tokenizer=tokenizer,\n",
    "        train_loader=train_loader,\n",
    "        val_loader=val_loader,\n",
    "        device=device,\n",
    "        epochs=5\n",
    "    )\n",
    "\n",
    "    timestamp = datetime.now().strftime(\"%y%m%d_%H%M%S\")\n",
    "    torch.save(model.state_dict(), f\"models/next_token_{seq_size}_{timestamp}.pth\")"
   ]
  },
  {
   "cell_type": "code",
   "execution_count": 48,
   "id": "44de4a2f",
   "metadata": {},
   "outputs": [],
   "source": [
    "if not model_train:\n",
    "    state = torch.load(model_load_path, map_location=device)\n",
    "    model.load_state_dict(state)"
   ]
  },
  {
   "cell_type": "code",
   "execution_count": 49,
   "id": "2f33c031",
   "metadata": {},
   "outputs": [],
   "source": [
    "prompts = [\n",
    "    \"I really want to\",\n",
    "    \"Can you please tell me\",\n",
    "    \"The main reason is\",\n",
    "    \"When I was a child\",\n",
    "    \"I think it would be better\",\n",
    "    \"Let's go to the\",\n",
    "    \"It is important because\",\n",
    "    \"In the future I would like to\",\n",
    "    \"Do you know how to\",\n",
    "    \"One of my favorite things\"\n",
    "]"
   ]
  },
  {
   "cell_type": "code",
   "execution_count": 70,
   "id": "5f624e87",
   "metadata": {},
   "outputs": [
    {
     "name": "stdout",
     "output_type": "stream",
     "text": [
      "I really want to -> go to the beach\n",
      "==================================================\n",
      "Can you please tell me -> \n",
      "==================================================\n",
      "The main reason is -> that i m not a fan of the twitter\n",
      "==================================================\n",
      "When I was a child -> \n",
      "==================================================\n",
      "I think it would be better -> \n",
      "==================================================\n",
      "Let's go to the -> beach\n",
      "==================================================\n",
      "It is important because -> i m not a fan of the twitter\n",
      "==================================================\n",
      "In the future I would like to -> be a fan of yours\n",
      "==================================================\n",
      "Do you know how to -> use it\n",
      "==================================================\n",
      "One of my favorite things -> \n",
      "==================================================\n"
     ]
    }
   ],
   "source": [
    "from autocomplete import autocomplete_text\n",
    "\n",
    "for prompt in prompts:\n",
    "    comp_text = autocomplete_text(\n",
    "        model=model, \n",
    "        tokenizer=tokenizer,\n",
    "        eos_id=eos_token_id,\n",
    "        seq_size=seq_size,\n",
    "        text=prompt,\n",
    "    )\n",
    "    print(f\"{prompt} -> {comp_text}\")\n",
    "    print(\"=\" * 50)"
   ]
  },
  {
   "cell_type": "code",
   "execution_count": 69,
   "id": "78a0e85b",
   "metadata": {},
   "outputs": [
    {
     "name": "stderr",
     "output_type": "stream",
     "text": [
      "Device set to use mps\n"
     ]
    },
    {
     "name": "stdout",
     "output_type": "stream",
     "text": [
      "I really want to -> see something that doesn't fall apart,\" he said. \"It's something that's very challenging. I'd love to see that happen.\"\n",
      "==================================================\n",
      "Can you please tell me -> what you think of the situation. We will try to provide a good way to answer your questions and get the answers right.\n",
      "\n",
      "\n",
      "\n",
      "We will be\n",
      "==================================================\n",
      "The main reason is -> to avoid having the data access in our database. But it is important to know that we don't do so with our database. In our database, there are\n",
      "==================================================\n",
      "When I was a child -> , I was a little girl. But I grew up playing basketball and tennis. I wanted to be a kid. I had to play basketball and tennis, so\n",
      "==================================================\n",
      "I think it would be better -> to do something else than do it myself.\"\n",
      "==================================================\n",
      "Let's go to the -> bottom of this post with a few key points. First, there is no way to fix the problem in the current way.\n",
      "\n",
      "The problem is that we\n",
      "==================================================\n",
      "It is important because -> a system of governance that respects the interests of the public is also important because it provides information and information about how the system works. This process is especially important because\n",
      "==================================================\n",
      "In the future I would like to -> see more people using this game. I hope the community will be able to get their hands on it and hopefully be able to play it.\"\n",
      "==================================================\n",
      "Do you know how to -> get a job and how to get your job done, please contact me for an email.\n",
      "==================================================\n",
      "One of my favorite things -> about the season is that we get to see the same characters and situations and the same story, and it's one of the most fun things I've done.\n",
      "==================================================\n"
     ]
    }
   ],
   "source": [
    "from eval_transformer_pipeline import build_gpt2_pipeline_fn\n",
    "\n",
    "gpt2_generate, tok = build_gpt2_pipeline_fn(\n",
    "    model_name=\"distilgpt2\",\n",
    "    max_new_tokens=32,\n",
    "    temperature=0.8,\n",
    "    top_p=0.95,\n",
    "    device=device\n",
    ")\n",
    "\n",
    "for prompt in prompts:\n",
    "    comp_text = gpt2_generate(prompt)\n",
    "    print(f\"{prompt} -> {comp_text}\")\n",
    "    print(\"=\" * 50)"
   ]
  },
  {
   "cell_type": "code",
   "execution_count": null,
   "id": "5e9947ff",
   "metadata": {},
   "outputs": [
    {
     "name": "stderr",
     "output_type": "stream",
     "text": [
      "Device set to use mps\n"
     ]
    },
    {
     "name": "stdout",
     "output_type": "stream",
     "text": [
      "GPT2 Transformer ROUGE Testing:\n"
     ]
    },
    {
     "name": "stderr",
     "output_type": "stream",
     "text": [
      "100%|██████████| 413/413 [02:36<00:00,  2.63it/s]\n"
     ]
    },
    {
     "name": "stdout",
     "output_type": "stream",
     "text": [
      "{'rouge1': 0.056100306716612376, 'rouge2': 0.005075522669654817, 'rougeL': 0.05145738091082816, 'elapsed_ms': 157026.1751250364}\n",
      "==================================================\n",
      "RRN LSTM ROUGE Testing:\n"
     ]
    },
    {
     "name": "stderr",
     "output_type": "stream",
     "text": [
      "100%|██████████| 413/413 [00:04<00:00, 91.63it/s] \n"
     ]
    },
    {
     "name": "stdout",
     "output_type": "stream",
     "text": [
      "{'rouge1': 0.07222530592715068, 'rouge2': 0.010712582413550938, 'rougeL': 0.07018916904811688, 'elapsed_ms': 4560.19779201597}\n"
     ]
    }
   ],
   "source": [
    "from rouge_autocomplete_tester import PairingConfig, RougeAutocompleteTester\n",
    "\n",
    "def lstm_generate(prompt: str) -> str:\n",
    "    return autocomplete_text(\n",
    "        model=model, \n",
    "        tokenizer=tokenizer,\n",
    "        eos_id=eos_token_id,\n",
    "        seq_size=seq_size,\n",
    "        text=prompt,\n",
    "    )\n",
    "\n",
    "tester = RougeAutocompleteTester(\n",
    "    tokenizer=tok,\n",
    "    pairing=PairingConfig(prompt_len=16, cont_len=32, max_text_tokens=256),\n",
    "    use_stemmer=True\n",
    ")\n",
    "\n",
    "print(\"GPT2 Transformer ROUGE Testing:\")\n",
    "gpt_result = tester.evaluate(test_texts[:1000], generator_fn=gpt2_generate, limit_pairs=None)\n",
    "print(gpt_result)\n",
    "\n",
    "print(\"=\" * 50)\n",
    "\n",
    "print(\"RRN LSTM ROUGE Testing:\")\n",
    "rnn_result = tester.evaluate(test_texts[:1000], generator_fn=lstm_generate, limit_pairs=None)\n",
    "print(rnn_result)"
   ]
  },
  {
   "cell_type": "markdown",
   "id": "283f7b45",
   "metadata": {},
   "source": [
    "## Подходы к автокомплиту\n",
    "- **RNN (LSTM):**  \n",
    "  Использован рекуррентный метод. На каждом шаге из выходной последовательности берутся логиты, соответствующие последнему токену, из них с помощью `argmax` выбирается наиболее вероятный токен, который затем подставляется в конец входной последовательности на следующем шаге.\n",
    "\n",
    "- **Transformer (GPT-2):**  \n",
    "  Использован стандартный autoregressive-подход модели `generate`, где последовательность продолжается на основе ранее сгенерированных токенов.\n",
    "\n",
    "## Метрики\n",
    "Для оценки использовалась метрика **ROUGE**:\n",
    "\n",
    "1. **Во время обучения:**  \n",
    "   Сравнение предсказаний по скользящему окну (teacher forcing).\n",
    "\n",
    "2. **На тестовых данных:**  \n",
    "   Тексты делились на две части:\n",
    "   - `prompt` — начало текста.  \n",
    "   - `continuation` — эталонное продолжение.  \n",
    "   Считался ROUGE между сгенерированным продолжением и эталонным.\n",
    "\n",
    "Метрика ROUGE по разбиению текстов на 2 части применялась как для RNN, так и для GPT-2.\n",
    "\n",
    "## Результаты\n",
    "- Результаты оказались **сравнимыми**.  \n",
    "- Transformer показал **немного лучшие значения ROUGE**, что объясняется предварительным обучением на текстах Twitter и лучшим предсказанием таких же текстов.  \n",
    "- **RNN работает значительно быстрее**, особенно на ограниченных ресурсах.  \n",
    "- **Качество текста:**\n",
    "  - GPT-2 генерирует более богатые и осмысленные тексты.  \n",
    "  - LSTM даёт сухие ответы и часто не попадает в контекст.\n",
    "\n",
    "## Выводы\n",
    "- Для простого автокомплита, где **не требуется глубокий контекст** и важна работа на мобильных устройствах с ограниченной памятью и вычислительными ресурсами, больше подходит **RNN (LSTM)**.  \n",
    "- Для более содержательных и осмысленных продолжений текста лучше использовать **Transformer (GPT-2)**."
   ]
  }
 ],
 "metadata": {
  "kernelspec": {
   "display_name": ".venv",
   "language": "python",
   "name": "python3"
  },
  "language_info": {
   "codemirror_mode": {
    "name": "ipython",
    "version": 3
   },
   "file_extension": ".py",
   "mimetype": "text/x-python",
   "name": "python",
   "nbconvert_exporter": "python",
   "pygments_lexer": "ipython3",
   "version": "3.13.5"
  }
 },
 "nbformat": 4,
 "nbformat_minor": 5
}
