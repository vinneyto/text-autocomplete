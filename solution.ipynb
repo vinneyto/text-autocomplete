{
 "cells": [
  {
   "cell_type": "code",
   "execution_count": 27,
   "id": "d634ef946e65d1ff",
   "metadata": {
    "ExecuteTime": {
     "end_time": "2025-08-18T13:47:01.167425Z",
     "start_time": "2025-08-18T13:47:01.155837Z"
    }
   },
   "outputs": [
    {
     "name": "stdout",
     "output_type": "stream",
     "text": [
      "The autoreload extension is already loaded. To reload it, use:\n",
      "  %reload_ext autoreload\n"
     ]
    }
   ],
   "source": [
    "import sys\n",
    "from pathlib import Path\n",
    "\n",
    "SRC = Path().resolve() / \"src\"\n",
    "if str(SRC) not in sys.path:\n",
    "    sys.path.append(str(SRC))\n",
    "\n",
    "%load_ext autoreload\n",
    "%autoreload 2"
   ]
  },
  {
   "cell_type": "code",
   "execution_count": null,
   "id": "f047258b91674185",
   "metadata": {
    "ExecuteTime": {
     "end_time": "2025-08-17T14:06:12.210370Z",
     "start_time": "2025-08-17T14:06:12.199557Z"
    }
   },
   "outputs": [
    {
     "name": "stdout",
     "output_type": "stream",
     "text": [
      "64000\n"
     ]
    }
   ],
   "source": [
    "from data_utils import read_splits, truncate\n",
    "\n",
    "# from data_utils import process_dataset\n",
    "# process_dataset(\"data/raw_dataset.csv\")\n",
    "\n",
    "train_df, val_df, test_df = read_splits(\"data/dataset_processed.csv\")\n",
    "\n",
    "truncate_ratio = 1.0\n",
    "\n",
    "train_texts = truncate(list(train_df['text']), truncate_ratio)\n",
    "val_texsts = truncate(list(val_df['text']), truncate_ratio)\n",
    "\n",
    "print(len(train_texts))"
   ]
  },
  {
   "cell_type": "code",
   "execution_count": 71,
   "id": "57a70a4d",
   "metadata": {},
   "outputs": [
    {
     "name": "stderr",
     "output_type": "stream",
     "text": [
      "100%|██████████| 64000/64000 [00:07<00:00, 8239.36it/s] \n",
      "100%|██████████| 8000/8000 [00:00<00:00, 29463.77it/s]\n"
     ]
    },
    {
     "name": "stdout",
     "output_type": "stream",
     "text": [
      "Train samples count: 523743\n",
      "Val samples count: 64180\n"
     ]
    }
   ],
   "source": [
    "from transformers import BertTokenizerFast\n",
    "from torch.utils.data import DataLoader\n",
    "from next_token_dataset import NextTokenDataset\n",
    "\n",
    "tokenizer = BertTokenizerFast.from_pretrained(\"bert-base-uncased\")\n",
    "\n",
    "seq_size = 8\n",
    "stride = 1\n",
    "\n",
    "train_dataset = NextTokenDataset(train_texts, tokenizer, seq_size=seq_size, stride=stride)\n",
    "val_dataset = NextTokenDataset(val_texsts, tokenizer, seq_size=seq_size, stride=stride)\n",
    "\n",
    "print(f\"Train samples count: {len(train_dataset)}\")\n",
    "print(f\"Val samples count: {len(val_dataset)}\")\n",
    "\n",
    "train_loader = DataLoader(train_dataset, batch_size=128, shuffle=True)\n",
    "val_loader = DataLoader(val_dataset, batch_size=128)"
   ]
  },
  {
   "cell_type": "code",
   "execution_count": 74,
   "id": "79351762",
   "metadata": {},
   "outputs": [
    {
     "name": "stdout",
     "output_type": "stream",
     "text": [
      "Using device: mps\n"
     ]
    }
   ],
   "source": [
    "from lstm_model import NextTokenLSTM\n",
    "from lstm_train import train_next_token\n",
    "from device_utils import get_device\n",
    "\n",
    "import torch\n",
    "import torch.nn as nn\n",
    "\n",
    "device = get_device()\n",
    "print(\"Using device:\", device)\n",
    "\n",
    "model = NextTokenLSTM(\n",
    "    vocab_size=tokenizer.vocab_size,\n",
    "    emb_dim=256,\n",
    "    hidden_dim=512,\n",
    "    num_layers=2,\n",
    "    pad_idx=tokenizer.pad_token_id or 0, # remove\n",
    "    dropout_p=0.5,\n",
    ")\n",
    "\n",
    "optimizer = torch.optim.AdamW(model.parameters(), lr=1e-3, weight_decay=0.01)\n",
    "criterion = nn.CrossEntropyLoss()"
   ]
  },
  {
   "cell_type": "code",
   "execution_count": 75,
   "id": "228edce6",
   "metadata": {},
   "outputs": [
    {
     "name": "stderr",
     "output_type": "stream",
     "text": [
      "Epoch: 1: 100%|██████████| 4092/4092 [02:56<00:00, 23.25it/s]\n",
      "100%|██████████| 502/502 [00:06<00:00, 74.78it/s]\n"
     ]
    },
    {
     "name": "stdout",
     "output_type": "stream",
     "text": [
      "Epoch 01 | Train Loss: 5.4852 | Val Loss: 5.5891 | Val PPL: 267.508 | Val Token Acc: 16.88%\n"
     ]
    },
    {
     "name": "stderr",
     "output_type": "stream",
     "text": [
      "Epoch: 2: 100%|██████████| 4092/4092 [02:55<00:00, 23.33it/s]\n",
      "100%|██████████| 502/502 [00:06<00:00, 76.97it/s]\n"
     ]
    },
    {
     "name": "stdout",
     "output_type": "stream",
     "text": [
      "Epoch 02 | Train Loss: 4.6305 | Val Loss: 5.7347 | Val PPL: 309.431 | Val Token Acc: 17.03%\n"
     ]
    },
    {
     "name": "stderr",
     "output_type": "stream",
     "text": [
      "Epoch: 3: 100%|██████████| 4092/4092 [02:53<00:00, 23.52it/s]\n",
      "100%|██████████| 502/502 [00:06<00:00, 76.35it/s]\n"
     ]
    },
    {
     "name": "stdout",
     "output_type": "stream",
     "text": [
      "Epoch 03 | Train Loss: 4.1287 | Val Loss: 5.9552 | Val PPL: 385.772 | Val Token Acc: 16.98%\n"
     ]
    },
    {
     "name": "stderr",
     "output_type": "stream",
     "text": [
      "Epoch: 4:   6%|▌         | 254/4092 [00:11<02:46, 23.08it/s]\n"
     ]
    },
    {
     "ename": "KeyboardInterrupt",
     "evalue": "",
     "output_type": "error",
     "traceback": [
      "\u001b[0;31m---------------------------------------------------------------------------\u001b[0m",
      "\u001b[0;31mKeyboardInterrupt\u001b[0m                         Traceback (most recent call last)",
      "Cell \u001b[0;32mIn[75], line 1\u001b[0m\n\u001b[0;32m----> 1\u001b[0m model \u001b[38;5;241m=\u001b[39m \u001b[43mtrain_next_token\u001b[49m\u001b[43m(\u001b[49m\n\u001b[1;32m      2\u001b[0m \u001b[43m    \u001b[49m\u001b[43mmodel\u001b[49m\u001b[43m,\u001b[49m\n\u001b[1;32m      3\u001b[0m \u001b[43m    \u001b[49m\u001b[43moptimizer\u001b[49m\u001b[38;5;241;43m=\u001b[39;49m\u001b[43moptimizer\u001b[49m\u001b[43m,\u001b[49m\n\u001b[1;32m      4\u001b[0m \u001b[43m    \u001b[49m\u001b[43mcriterion\u001b[49m\u001b[38;5;241;43m=\u001b[39;49m\u001b[43mcriterion\u001b[49m\u001b[43m,\u001b[49m\n\u001b[1;32m      5\u001b[0m \u001b[43m    \u001b[49m\u001b[43mtrain_loader\u001b[49m\u001b[38;5;241;43m=\u001b[39;49m\u001b[43mtrain_loader\u001b[49m\u001b[43m,\u001b[49m\n\u001b[1;32m      6\u001b[0m \u001b[43m    \u001b[49m\u001b[43mval_loader\u001b[49m\u001b[38;5;241;43m=\u001b[39;49m\u001b[43mval_loader\u001b[49m\u001b[43m,\u001b[49m\n\u001b[1;32m      7\u001b[0m \u001b[43m    \u001b[49m\u001b[43mdevice\u001b[49m\u001b[38;5;241;43m=\u001b[39;49m\u001b[43mdevice\u001b[49m\u001b[43m,\u001b[49m\n\u001b[1;32m      8\u001b[0m \u001b[43m    \u001b[49m\u001b[43mepochs\u001b[49m\u001b[38;5;241;43m=\u001b[39;49m\u001b[38;5;241;43m5\u001b[39;49m\n\u001b[1;32m      9\u001b[0m \u001b[43m)\u001b[49m\n",
      "File \u001b[0;32m~/dev/text-autocomplete/src/lstm_train.py:73\u001b[0m, in \u001b[0;36mtrain_next_token\u001b[0;34m(model, optimizer, criterion, train_loader, val_loader, device, epochs, max_grad_norm, patience, min_delta_ppl, pad_idx, scheduler, restore_best)\u001b[0m\n\u001b[1;32m     70\u001b[0m         clip_grad_norm_(model\u001b[38;5;241m.\u001b[39mparameters(), max_grad_norm)\n\u001b[1;32m     72\u001b[0m     optimizer\u001b[38;5;241m.\u001b[39mstep()\n\u001b[0;32m---> 73\u001b[0m     running \u001b[38;5;241m+\u001b[39m\u001b[38;5;241m=\u001b[39m \u001b[43mloss\u001b[49m\u001b[38;5;241;43m.\u001b[39;49m\u001b[43mitem\u001b[49m\u001b[43m(\u001b[49m\u001b[43m)\u001b[49m\n\u001b[1;32m     75\u001b[0m train_loss \u001b[38;5;241m=\u001b[39m running \u001b[38;5;241m/\u001b[39m \u001b[38;5;28mmax\u001b[39m(\u001b[38;5;241m1\u001b[39m, \u001b[38;5;28mlen\u001b[39m(train_loader))\n\u001b[1;32m     77\u001b[0m \u001b[38;5;66;03m# ---- EVAL ----\u001b[39;00m\n",
      "\u001b[0;31mKeyboardInterrupt\u001b[0m: "
     ]
    }
   ],
   "source": [
    "model = train_next_token(\n",
    "    model,\n",
    "    optimizer=optimizer,\n",
    "    criterion=criterion,\n",
    "    train_loader=train_loader,\n",
    "    val_loader=val_loader,\n",
    "    device=device,\n",
    "    epochs=5\n",
    ")"
   ]
  },
  {
   "cell_type": "code",
   "execution_count": null,
   "id": "cd047e75",
   "metadata": {},
   "outputs": [],
   "source": [
    "from datetime import datetime\n",
    "\n",
    "timestamp = datetime.now().strftime(\"%y%m%d_%H%M\")\n",
    "torch.save(model.state_dict(), f\"models/next_token_{seq_size}_{timestamp}.pth\")"
   ]
  },
  {
   "cell_type": "code",
   "execution_count": null,
   "id": "c4afb4a1",
   "metadata": {},
   "outputs": [
    {
     "data": {
      "text/plain": [
       "<All keys matched successfully>"
      ]
     },
     "execution_count": 55,
     "metadata": {},
     "output_type": "execute_result"
    }
   ],
   "source": [
    "# state = torch.load(\"models/next_token_16.pth\", map_location=device)\n",
    "# model.load_state_dict(state)"
   ]
  },
  {
   "cell_type": "code",
   "execution_count": null,
   "id": "5f624e87",
   "metadata": {},
   "outputs": [
    {
     "data": {
      "text/plain": [
       "'a great woman and i love her and i love her so much i love her so much i love her so much i love her so much i love her so much i love her so much i love her so much i love her so much i love'"
      ]
     },
     "execution_count": 66,
     "metadata": {},
     "output_type": "execute_result"
    }
   ],
   "source": [
    "from eval_lstm import autocomplete_text\n",
    "\n",
    "comp_text = autocomplete_text(\n",
    "    model=model, \n",
    "    tokenizer=tokenizer,\n",
    "    text=\"she is\",\n",
    "    seq_size=seq_size\n",
    ")\n",
    "comp_text"
   ]
  }
 ],
 "metadata": {
  "kernelspec": {
   "display_name": ".venv",
   "language": "python",
   "name": "python3"
  },
  "language_info": {
   "codemirror_mode": {
    "name": "ipython",
    "version": 3
   },
   "file_extension": ".py",
   "mimetype": "text/x-python",
   "name": "python",
   "nbconvert_exporter": "python",
   "pygments_lexer": "ipython3",
   "version": "3.13.3"
  }
 },
 "nbformat": 4,
 "nbformat_minor": 5
}
